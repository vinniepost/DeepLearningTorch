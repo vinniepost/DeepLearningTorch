{
 "cells": [
  {
   "cell_type": "markdown",
   "metadata": {},
   "source": [
    "# Week 2: TensorFlow and Deep Learning"
   ]
  },
  {
   "cell_type": "markdown",
   "metadata": {},
   "source": [
    "This week we will be using Tensorboard to visualize the training of a neural network. We will also be using torch to build a neural network to classify images of clothing. This data set is called Fashion MNIST and is a drop-in replacement for the MNIST dataset. It has 10 classes of clothing items."
   ]
  },
  {
   "cell_type": "code",
   "execution_count": 1,
   "metadata": {},
   "outputs": [],
   "source": [
    "import torch as t\n",
    "import torchvision as tv\n",
    "import numpy as np\n",
    "import matplotlib.pyplot as plt\n"
   ]
  },
  {
   "cell_type": "markdown",
   "metadata": {},
   "source": [
    "## Load in the data, analize and visualize it"
   ]
  },
  {
   "cell_type": "code",
   "execution_count": 2,
   "metadata": {},
   "outputs": [],
   "source": [
    "# Load the MINST clothing dataset\n",
    "data = tv.datasets.FashionMNIST(root='./data', train=True, download=True, transform=tv.transforms.ToTensor())"
   ]
  },
  {
   "cell_type": "code",
   "execution_count": 3,
   "metadata": {},
   "outputs": [
    {
     "data": {
      "image/png": "[encoded data removed]",
      "text/plain": [
       "<Figure size 640x480 with 1 Axes>"
      ]
     },
     "metadata": {},
     "output_type": "display_data"
    }
   ],
   "source": [
    "## Create a dataloader\n",
    "data_loader = t.utils.data.DataLoader(data, batch_size=4, shuffle=True)\n",
    "\n",
    "## Get the first batch\n",
    "data_iter = iter(data_loader)\n",
    "images, labels = next(data_iter)\n",
    "\n",
    "## Display the images\n",
    "img = tv.utils.make_grid(images)\n",
    "npimg = img.numpy()\n",
    "plt.imshow(np.transpose(npimg, (1, 2, 0)))\n",
    "plt.show()"
   ]
  },
  {
   "cell_type": "markdown",
   "metadata": {},
   "source": [
    "## Define the model"
   ]
  },
  {
   "cell_type": "code",
   "execution_count": 4,
   "metadata": {},
   "outputs": [],
   "source": [
    "# Define the model\n",
    "\n",
    "class Net(t.nn.Module):\n",
    "    def __init__(self):\n",
    "        super(Net, self).__init__()\n",
    "        self.conv1 = t.nn.Conv2d(1, 6, 5) # 1 input channel, 6 output channels, 5x5 kernel. Output size = (input_size - kernel_size + 1) / stride \n",
    "        self.pool = t.nn.MaxPool2d(2, 2)\n",
    "        self.conv2 = t.nn.Conv2d(6, 16, 5) # 6 input channels, 16 output channels, 5x5 kernel. Output size = (input_size - kernel_size + 1) / stride\n",
    "        self.fc1 = t.nn.Linear(16 * 4 * 4, 120)\n",
    "        self.fc2 = t.nn.Linear(120, 84)\n",
    "        self.fc3 = t.nn.Linear(84, 10)\n",
    "\n",
    "    def forward(self, x):\n",
    "        x = self.pool(t.nn.functional.relu(self.conv1(x)))\n",
    "        x = self.pool(t.nn.functional.relu(self.conv2(x)))\n",
    "        x = x.view(-1, 16 * 4 * 4)\n",
    "        x = t.nn.functional.relu(self.fc1(x))\n",
    "        x = t.nn.functional.relu(self.fc2(x))\n",
    "        x = self.fc3(x)\n",
    "        return x"
   ]
  },
  {
   "cell_type": "markdown",
   "metadata": {},
   "source": [
    "in bash run `tensorboard --logdir=runs` to start tensorboard. Be sure to be in the same directory as the runs folder."
   ]
  },
  {
   "cell_type": "code",
   "execution_count": 15,
   "metadata": {},
   "outputs": [
    {
     "name": "stdout",
     "output_type": "stream",
     "text": [
      "[1,  2000] loss: 1.539\n",
      "[1,  4000] loss: 0.790\n",
      "[1,  6000] loss: 0.656\n",
      "[1,  8000] loss: 0.599\n",
      "[1, 10000] loss: 0.547\n",
      "[1, 12000] loss: 0.502\n",
      "[1, 14000] loss: 0.485\n",
      "[2,  2000] loss: 0.455\n",
      "[2,  4000] loss: 0.441\n",
      "[2,  6000] loss: 0.417\n",
      "[2,  8000] loss: 0.409\n",
      "[2, 10000] loss: 0.414\n",
      "[2, 12000] loss: 0.415\n",
      "[2, 14000] loss: 0.390\n",
      "Finished Training\n"
     ]
    }
   ],
   "source": [
    "# Create the model\n",
    "net = Net()\n",
    "\n",
    "# Define the loss function\n",
    "criterion = t.nn.CrossEntropyLoss()\n",
    "\n",
    "# Define the optimizer\n",
    "optimizer = t.optim.SGD(net.parameters(), lr=0.001, momentum=0.9)\n",
    "\n",
    "number_of_epochs = 2\n",
    "\n",
    "# Log the model to TensorBoard\n",
    "from torch.utils.tensorboard import SummaryWriter\n",
    "writer = SummaryWriter()\n",
    "writer.add_graph(net, images)\n",
    "# Set run name\n",
    "writer.add_text('run name', 'first run')\n",
    "# Set run date\n",
    "writer.add_text('run date', '2020-04-15')\n",
    "# Set run description\n",
    "writer.add_text('run description', 'First run of the model')\n",
    "# Set run parameters\n",
    "writer.add_text('run parameters', 'lr=0.001, momentum=0.9')\n",
    "# Set run hyperparameters\n",
    "writer.add_text('run hyperparameters', 'batch_size=4, shuffle=True')\n",
    "# Set run metrics\n",
    "writer.add_text('run metrics', 'accuracy, loss')\n",
    "# Set run environment\n",
    "writer.add_text('run environment', 'local')\n",
    "# Set run tags\n",
    "writer.add_text('run tags', 'first_run, model, training')\n",
    "# Set run notes\n",
    "writer.add_text('run notes', 'First run of the model')\n",
    "# Set run model\n",
    "writer.add_text('run model', 'Net')\n",
    "# Set run dataset\n",
    "writer.add_text('run dataset', 'FashionMNIST')\n",
    "# Set run dataset size\n",
    "writer.add_text('run dataset size', '60,000')\n",
    "# Set run dataset classes\n",
    "writer.add_text('run dataset classes', 'T-shirt/top, Trouser, Pullover, Dress, Coat, Sandal, Shirt, Sneaker, Bag, Ankle boot')\n",
    "# Set run dataset description\n",
    "writer.add_text('run dataset description', 'FashionMNIST dataset')\n",
    "\n",
    "for name, param in net.named_parameters():\n",
    "    writer.add_histogram(name, param, 0)\n",
    "\n",
    "writer.close()\n",
    "\n",
    "\n",
    "\n",
    "# Train the model and log the loss to TensorBoard\n",
    "for epoch in range(number_of_epochs):\n",
    "    running_loss = 0.0\n",
    "    for i, data in enumerate(data_loader, 0):\n",
    "        inputs, labels = data\n",
    "        optimizer.zero_grad()\n",
    "        outputs = net(inputs)\n",
    "        loss = criterion(outputs, labels)\n",
    "        loss.backward()\n",
    "        \n",
    "        optimizer.step()\n",
    "        running_loss += loss.item()\n",
    "        if i % 2000 == 1999:\n",
    "            print('[%d, %5d] loss: %.3f' % (epoch + 1, i + 1, running_loss / 2000))\n",
    "            running_loss = 0.0\n",
    "            for name, param in net.named_parameters():\n",
    "                writer.add_histogram(name, param, epoch * len(data_loader) + i)\n",
    "        # Log the loss to TensorBoard and log what epoch and batch the loss is from\n",
    "        writer.add_scalar('training loss', running_loss, epoch * len(data_loader) + i)\n",
    "        # Log the weights to TensorBoard\n",
    "\n",
    "        \n",
    "print('Finished Training')\n",
    "writer.flush()\n",
    "writer.close()"
   ]
  },
  {
   "cell_type": "code",
   "execution_count": 16,
   "metadata": {},
   "outputs": [],
   "source": [
    "# run this when an error occurs\n",
    "writer.flush()\n",
    "writer.close()"
   ]
  },
  {
   "cell_type": "markdown",
   "metadata": {},
   "source": [
    "Save, load and evaluate the model"
   ]
  },
  {
   "cell_type": "code",
   "execution_count": 19,
   "metadata": {},
   "outputs": [
    {
     "name": "stderr",
     "output_type": "stream",
     "text": [
      "/tmp/ipykernel_818/2938558973.py:6: FutureWarning: You are using `torch.load` with `weights_only=False` (the current default value), which uses the default pickle module implicitly. It is possible to construct malicious pickle data which will execute arbitrary code during unpickling (See https://github.com/pytorch/pytorch/blob/main/SECURITY.md#untrusted-models for more details). In a future release, the default value for `weights_only` will be flipped to `True`. This limits the functions that could be executed during unpickling. Arbitrary objects will no longer be allowed to be loaded via this mode unless they are explicitly allowlisted by the user via `torch.serialization.add_safe_globals`. We recommend you start setting `weights_only=True` for any use case where you don't have full control of the loaded file. Please open an issue on GitHub for any issues related to this experimental feature.\n",
      "  net.load_state_dict(t.load('model.pth'))\n"
     ]
    },
    {
     "data": {
      "image/png": "[encoded data removed]",
      "text/plain": [
       "<Figure size 640x480 with 1 Axes>"
      ]
     },
     "metadata": {},
     "output_type": "display_data"
    },
    {
     "name": "stdout",
     "output_type": "stream",
     "text": [
      "Predicted:  Sandal Ankle boot Sandal T-shirt/top\n",
      "Ground truth:  Sandal Ankle boot Sandal Shirt\n",
      "Accuracy of the network on the 10000 test images: 85 %\n"
     ]
    }
   ],
   "source": [
    "# Save the model\n",
    "t.save(net.state_dict(), 'model.pth')\n",
    "\n",
    "# Load the model\n",
    "net = Net()\n",
    "net.load_state_dict(t.load('model.pth'))\n",
    "\n",
    "# Test the model\n",
    "data = tv.datasets.FashionMNIST(root='./data', train=False, download=True, transform=tv.transforms.ToTensor())\n",
    "data_loader = t.utils.data.DataLoader(data, batch_size=4, shuffle=True)\n",
    "data_iter = iter(data_loader)\n",
    "images, labels = next(data_iter)\n",
    "\n",
    "# Display the images\n",
    "img = tv.utils.make_grid(images)\n",
    "npimg = img.numpy()\n",
    "plt.imshow(np.transpose(npimg, (1, 2, 0)))\n",
    "plt.show()\n",
    "\n",
    "# Get the model predictions\n",
    "outputs = net(images)\n",
    "_, predicted = t.max(outputs, 1)\n",
    "\n",
    "# Print the model predictions\n",
    "print('Predicted: ', ' '.join('%5s' % data.classes[predicted[j]] for j in range(4)))\n",
    "\n",
    "# Print the ground truth\n",
    "print('Ground truth: ', ' '.join('%5s' % data.classes[labels[j]] for j in range(4)))\n",
    "\n",
    "# Test the model on the entire test set\n",
    "correct = 0\n",
    "total = 0\n",
    "with t.no_grad():\n",
    "    for data in data_loader:\n",
    "        images, labels = data\n",
    "        outputs = net(images)\n",
    "        _, predicted = t.max(outputs, 1)\n",
    "        total += labels.size(0)\n",
    "        correct += (predicted == labels).sum().item()\n",
    "\n",
    "print('Accuracy of the network on the 10000 test images: %d %%' % (100 * correct / total))\n",
    "\n",
    "# Test the model on each class\n",
    "class_correct = list(0. for i in range(10))\n",
    "class_total = list(0. for i in range(10))\n",
    "with t.no_grad():\n",
    "    for data in data_loader:\n",
    "        images, labels = data\n",
    "        outputs = net(images)\n",
    "        _, predicted = t.max(outputs, 1)\n",
    "        c = (predicted == labels).squeeze()\n",
    "        for i in range(4):\n",
    "            label = labels[i]\n",
    "            class_correct[label] += c[i].item()\n",
    "            class_total[label] += 1\n"
   ]
  },
  {
   "cell_type": "code",
   "execution_count": 24,
   "metadata": {},
   "outputs": [
    {
     "name": "stdout",
     "output_type": "stream",
     "text": [
      "Accuracy of T-shirt/top : 85 %\n",
      "Accuracy of Trouser : 97 %\n",
      "Accuracy of Pullover : 80 %\n",
      "Accuracy of Dress : 85 %\n",
      "Accuracy of  Coat : 81 %\n",
      "Accuracy of Sandal : 97 %\n",
      "Accuracy of Shirt : 49 %\n",
      "Accuracy of Sneaker : 90 %\n",
      "Accuracy of   Bag : 95 %\n",
      "Accuracy of Ankle boot : 95 %\n"
     ]
    }
   ],
   "source": [
    "\n",
    "# Use the dataset object to access the classes attribute\n",
    "dataset = tv.datasets.FashionMNIST(root='./data', train=False, download=True, transform=tv.transforms.ToTensor())\n",
    "\n",
    "for i in range(10):\n",
    "    print('Accuracy of %5s : %2d %%' % (dataset.classes[i], 100 * class_correct[i] / class_total[i]))\n",
    "    \n",
    "# Log the accuracy to TensorBoard\n",
    "writer.add_scalar('Accuracy', 100 * correct / total)\n",
    "\n",
    "# Log the accuracy for each class to TensorBoard\n",
    "for i in range(10):\n",
    "    writer.add_scalar(dataset.classes[i], 100 * class_correct[i] / class_total[i])\n"
   ]
  },
  {
   "cell_type": "markdown",
   "metadata": {},
   "source": [
    "## Look at the results"
   ]
  },
  {
   "cell_type": "markdown",
   "metadata": {},
   "source": [
    "Looking at the results you will see that one class is not being predicted well. This is the class of shirts. Why do you think this is?"
   ]
  }
 ],
 "metadata": {
  "kernelspec": {
   "display_name": "Python 3",
   "language": "python",
   "name": "python3"
  },
  "language_info": {
   "codemirror_mode": {
    "name": "ipython",
    "version": 3
   },
   "file_extension": ".py",
   "mimetype": "text/x-python",
   "name": "python",
   "nbconvert_exporter": "python",
   "pygments_lexer": "ipython3",
   "version": "3.12.6"
  }
 },
 "nbformat": 4,
 "nbformat_minor": 2
}
